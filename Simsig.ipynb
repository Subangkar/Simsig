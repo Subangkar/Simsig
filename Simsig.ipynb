{
  "nbformat": 4,
  "nbformat_minor": 0,
  "metadata": {
    "colab": {
      "provenance": [],
      "gpuType": "T4",
      "mount_file_id": "1YZWT1SMpb6Iv1jhQwtWB0w1bn9o6lpy_",
      "authorship_tag": "ABX9TyO/J1h22CAOYRqbQwNZzZZ3",
      "include_colab_link": true
    },
    "kernelspec": {
      "name": "python3",
      "display_name": "Python 3"
    },
    "language_info": {
      "name": "python"
    },
    "accelerator": "GPU",
    "widgets": {
      "application/vnd.jupyter.widget-state+json": {
        "fdde87690ba44ef9b7c80cd2f9bb51e7": {
          "model_module": "@jupyter-widgets/controls",
          "model_name": "HBoxModel",
          "model_module_version": "1.5.0",
          "state": {
            "_dom_classes": [],
            "_model_module": "@jupyter-widgets/controls",
            "_model_module_version": "1.5.0",
            "_model_name": "HBoxModel",
            "_view_count": null,
            "_view_module": "@jupyter-widgets/controls",
            "_view_module_version": "1.5.0",
            "_view_name": "HBoxView",
            "box_style": "",
            "children": [
              "IPY_MODEL_3bb3d08a5fe74e0d80e8e1f77f227ae8",
              "IPY_MODEL_19dc517367604e6bace68cefb15d38bd",
              "IPY_MODEL_4120050939fd4bd883ab6e0c73342c46"
            ],
            "layout": "IPY_MODEL_1a3f2a1e8b624d7798d779b9888c6ba6"
          }
        },
        "3bb3d08a5fe74e0d80e8e1f77f227ae8": {
          "model_module": "@jupyter-widgets/controls",
          "model_name": "HTMLModel",
          "model_module_version": "1.5.0",
          "state": {
            "_dom_classes": [],
            "_model_module": "@jupyter-widgets/controls",
            "_model_module_version": "1.5.0",
            "_model_name": "HTMLModel",
            "_view_count": null,
            "_view_module": "@jupyter-widgets/controls",
            "_view_module_version": "1.5.0",
            "_view_name": "HTMLView",
            "description": "",
            "description_tooltip": null,
            "layout": "IPY_MODEL_dc17238213644b4e814cb56f70abacbc",
            "placeholder": "​",
            "style": "IPY_MODEL_5683e5a9b2444a27852259e75a6fbf8f",
            "value": "train: 100%"
          }
        },
        "19dc517367604e6bace68cefb15d38bd": {
          "model_module": "@jupyter-widgets/controls",
          "model_name": "FloatProgressModel",
          "model_module_version": "1.5.0",
          "state": {
            "_dom_classes": [],
            "_model_module": "@jupyter-widgets/controls",
            "_model_module_version": "1.5.0",
            "_model_name": "FloatProgressModel",
            "_view_count": null,
            "_view_module": "@jupyter-widgets/controls",
            "_view_module_version": "1.5.0",
            "_view_name": "ProgressView",
            "bar_style": "success",
            "description": "",
            "description_tooltip": null,
            "layout": "IPY_MODEL_2febcdb400c549cf9c2030af3e8905fb",
            "max": 212,
            "min": 0,
            "orientation": "horizontal",
            "style": "IPY_MODEL_48790c8e89374a24a97c169bdd104443",
            "value": 212
          }
        },
        "4120050939fd4bd883ab6e0c73342c46": {
          "model_module": "@jupyter-widgets/controls",
          "model_name": "HTMLModel",
          "model_module_version": "1.5.0",
          "state": {
            "_dom_classes": [],
            "_model_module": "@jupyter-widgets/controls",
            "_model_module_version": "1.5.0",
            "_model_name": "HTMLModel",
            "_view_count": null,
            "_view_module": "@jupyter-widgets/controls",
            "_view_module_version": "1.5.0",
            "_view_name": "HTMLView",
            "description": "",
            "description_tooltip": null,
            "layout": "IPY_MODEL_d79dea37974747b4bd2d99a4affe3323",
            "placeholder": "​",
            "style": "IPY_MODEL_d40a1adf56b54466a47d8642329eb695",
            "value": " 212/212 [00:24&lt;00:00,  8.54it/s]"
          }
        },
        "1a3f2a1e8b624d7798d779b9888c6ba6": {
          "model_module": "@jupyter-widgets/base",
          "model_name": "LayoutModel",
          "model_module_version": "1.2.0",
          "state": {
            "_model_module": "@jupyter-widgets/base",
            "_model_module_version": "1.2.0",
            "_model_name": "LayoutModel",
            "_view_count": null,
            "_view_module": "@jupyter-widgets/base",
            "_view_module_version": "1.2.0",
            "_view_name": "LayoutView",
            "align_content": null,
            "align_items": null,
            "align_self": null,
            "border": null,
            "bottom": null,
            "display": null,
            "flex": null,
            "flex_flow": null,
            "grid_area": null,
            "grid_auto_columns": null,
            "grid_auto_flow": null,
            "grid_auto_rows": null,
            "grid_column": null,
            "grid_gap": null,
            "grid_row": null,
            "grid_template_areas": null,
            "grid_template_columns": null,
            "grid_template_rows": null,
            "height": null,
            "justify_content": null,
            "justify_items": null,
            "left": null,
            "margin": null,
            "max_height": null,
            "max_width": null,
            "min_height": null,
            "min_width": null,
            "object_fit": null,
            "object_position": null,
            "order": null,
            "overflow": null,
            "overflow_x": null,
            "overflow_y": null,
            "padding": null,
            "right": null,
            "top": null,
            "visibility": null,
            "width": null
          }
        },
        "dc17238213644b4e814cb56f70abacbc": {
          "model_module": "@jupyter-widgets/base",
          "model_name": "LayoutModel",
          "model_module_version": "1.2.0",
          "state": {
            "_model_module": "@jupyter-widgets/base",
            "_model_module_version": "1.2.0",
            "_model_name": "LayoutModel",
            "_view_count": null,
            "_view_module": "@jupyter-widgets/base",
            "_view_module_version": "1.2.0",
            "_view_name": "LayoutView",
            "align_content": null,
            "align_items": null,
            "align_self": null,
            "border": null,
            "bottom": null,
            "display": null,
            "flex": null,
            "flex_flow": null,
            "grid_area": null,
            "grid_auto_columns": null,
            "grid_auto_flow": null,
            "grid_auto_rows": null,
            "grid_column": null,
            "grid_gap": null,
            "grid_row": null,
            "grid_template_areas": null,
            "grid_template_columns": null,
            "grid_template_rows": null,
            "height": null,
            "justify_content": null,
            "justify_items": null,
            "left": null,
            "margin": null,
            "max_height": null,
            "max_width": null,
            "min_height": null,
            "min_width": null,
            "object_fit": null,
            "object_position": null,
            "order": null,
            "overflow": null,
            "overflow_x": null,
            "overflow_y": null,
            "padding": null,
            "right": null,
            "top": null,
            "visibility": null,
            "width": null
          }
        },
        "5683e5a9b2444a27852259e75a6fbf8f": {
          "model_module": "@jupyter-widgets/controls",
          "model_name": "DescriptionStyleModel",
          "model_module_version": "1.5.0",
          "state": {
            "_model_module": "@jupyter-widgets/controls",
            "_model_module_version": "1.5.0",
            "_model_name": "DescriptionStyleModel",
            "_view_count": null,
            "_view_module": "@jupyter-widgets/base",
            "_view_module_version": "1.2.0",
            "_view_name": "StyleView",
            "description_width": ""
          }
        },
        "2febcdb400c549cf9c2030af3e8905fb": {
          "model_module": "@jupyter-widgets/base",
          "model_name": "LayoutModel",
          "model_module_version": "1.2.0",
          "state": {
            "_model_module": "@jupyter-widgets/base",
            "_model_module_version": "1.2.0",
            "_model_name": "LayoutModel",
            "_view_count": null,
            "_view_module": "@jupyter-widgets/base",
            "_view_module_version": "1.2.0",
            "_view_name": "LayoutView",
            "align_content": null,
            "align_items": null,
            "align_self": null,
            "border": null,
            "bottom": null,
            "display": null,
            "flex": null,
            "flex_flow": null,
            "grid_area": null,
            "grid_auto_columns": null,
            "grid_auto_flow": null,
            "grid_auto_rows": null,
            "grid_column": null,
            "grid_gap": null,
            "grid_row": null,
            "grid_template_areas": null,
            "grid_template_columns": null,
            "grid_template_rows": null,
            "height": null,
            "justify_content": null,
            "justify_items": null,
            "left": null,
            "margin": null,
            "max_height": null,
            "max_width": null,
            "min_height": null,
            "min_width": null,
            "object_fit": null,
            "object_position": null,
            "order": null,
            "overflow": null,
            "overflow_x": null,
            "overflow_y": null,
            "padding": null,
            "right": null,
            "top": null,
            "visibility": null,
            "width": null
          }
        },
        "48790c8e89374a24a97c169bdd104443": {
          "model_module": "@jupyter-widgets/controls",
          "model_name": "ProgressStyleModel",
          "model_module_version": "1.5.0",
          "state": {
            "_model_module": "@jupyter-widgets/controls",
            "_model_module_version": "1.5.0",
            "_model_name": "ProgressStyleModel",
            "_view_count": null,
            "_view_module": "@jupyter-widgets/base",
            "_view_module_version": "1.2.0",
            "_view_name": "StyleView",
            "bar_color": null,
            "description_width": ""
          }
        },
        "d79dea37974747b4bd2d99a4affe3323": {
          "model_module": "@jupyter-widgets/base",
          "model_name": "LayoutModel",
          "model_module_version": "1.2.0",
          "state": {
            "_model_module": "@jupyter-widgets/base",
            "_model_module_version": "1.2.0",
            "_model_name": "LayoutModel",
            "_view_count": null,
            "_view_module": "@jupyter-widgets/base",
            "_view_module_version": "1.2.0",
            "_view_name": "LayoutView",
            "align_content": null,
            "align_items": null,
            "align_self": null,
            "border": null,
            "bottom": null,
            "display": null,
            "flex": null,
            "flex_flow": null,
            "grid_area": null,
            "grid_auto_columns": null,
            "grid_auto_flow": null,
            "grid_auto_rows": null,
            "grid_column": null,
            "grid_gap": null,
            "grid_row": null,
            "grid_template_areas": null,
            "grid_template_columns": null,
            "grid_template_rows": null,
            "height": null,
            "justify_content": null,
            "justify_items": null,
            "left": null,
            "margin": null,
            "max_height": null,
            "max_width": null,
            "min_height": null,
            "min_width": null,
            "object_fit": null,
            "object_position": null,
            "order": null,
            "overflow": null,
            "overflow_x": null,
            "overflow_y": null,
            "padding": null,
            "right": null,
            "top": null,
            "visibility": null,
            "width": null
          }
        },
        "d40a1adf56b54466a47d8642329eb695": {
          "model_module": "@jupyter-widgets/controls",
          "model_name": "DescriptionStyleModel",
          "model_module_version": "1.5.0",
          "state": {
            "_model_module": "@jupyter-widgets/controls",
            "_model_module_version": "1.5.0",
            "_model_name": "DescriptionStyleModel",
            "_view_count": null,
            "_view_module": "@jupyter-widgets/base",
            "_view_module_version": "1.2.0",
            "_view_name": "StyleView",
            "description_width": ""
          }
        },
        "47a25f182821457f84ffcb464dd0a4cc": {
          "model_module": "@jupyter-widgets/controls",
          "model_name": "HBoxModel",
          "model_module_version": "1.5.0",
          "state": {
            "_dom_classes": [],
            "_model_module": "@jupyter-widgets/controls",
            "_model_module_version": "1.5.0",
            "_model_name": "HBoxModel",
            "_view_count": null,
            "_view_module": "@jupyter-widgets/controls",
            "_view_module_version": "1.5.0",
            "_view_name": "HBoxView",
            "box_style": "",
            "children": [
              "IPY_MODEL_930e08694b124c2c9d56417d6af6085f",
              "IPY_MODEL_9661a09ca8b847c7a025a51159a31023",
              "IPY_MODEL_66c0d1a4de214536aedd4292747d8105"
            ],
            "layout": "IPY_MODEL_4cbe355111c1422ebde54750d73a9061"
          }
        },
        "930e08694b124c2c9d56417d6af6085f": {
          "model_module": "@jupyter-widgets/controls",
          "model_name": "HTMLModel",
          "model_module_version": "1.5.0",
          "state": {
            "_dom_classes": [],
            "_model_module": "@jupyter-widgets/controls",
            "_model_module_version": "1.5.0",
            "_model_name": "HTMLModel",
            "_view_count": null,
            "_view_module": "@jupyter-widgets/controls",
            "_view_module_version": "1.5.0",
            "_view_name": "HTMLView",
            "description": "",
            "description_tooltip": null,
            "layout": "IPY_MODEL_319bbd527b0941feb45f29e0ac947ea8",
            "placeholder": "​",
            "style": "IPY_MODEL_c63ea2d9444a466e90a9677d3b2a410f",
            "value": "test: 100%"
          }
        },
        "9661a09ca8b847c7a025a51159a31023": {
          "model_module": "@jupyter-widgets/controls",
          "model_name": "FloatProgressModel",
          "model_module_version": "1.5.0",
          "state": {
            "_dom_classes": [],
            "_model_module": "@jupyter-widgets/controls",
            "_model_module_version": "1.5.0",
            "_model_name": "FloatProgressModel",
            "_view_count": null,
            "_view_module": "@jupyter-widgets/controls",
            "_view_module_version": "1.5.0",
            "_view_name": "ProgressView",
            "bar_style": "success",
            "description": "",
            "description_tooltip": null,
            "layout": "IPY_MODEL_b29e42ef1ee8473394ec30b120a4538e",
            "max": 49,
            "min": 0,
            "orientation": "horizontal",
            "style": "IPY_MODEL_6d1a9572f0044985a638fd41d2e0c271",
            "value": 49
          }
        },
        "66c0d1a4de214536aedd4292747d8105": {
          "model_module": "@jupyter-widgets/controls",
          "model_name": "HTMLModel",
          "model_module_version": "1.5.0",
          "state": {
            "_dom_classes": [],
            "_model_module": "@jupyter-widgets/controls",
            "_model_module_version": "1.5.0",
            "_model_name": "HTMLModel",
            "_view_count": null,
            "_view_module": "@jupyter-widgets/controls",
            "_view_module_version": "1.5.0",
            "_view_name": "HTMLView",
            "description": "",
            "description_tooltip": null,
            "layout": "IPY_MODEL_12c568ce60b840109efd71eddaa00bc8",
            "placeholder": "​",
            "style": "IPY_MODEL_97305c080e66403bb67df4454bd4c093",
            "value": " 49/49 [00:04&lt;00:00, 10.47it/s]"
          }
        },
        "4cbe355111c1422ebde54750d73a9061": {
          "model_module": "@jupyter-widgets/base",
          "model_name": "LayoutModel",
          "model_module_version": "1.2.0",
          "state": {
            "_model_module": "@jupyter-widgets/base",
            "_model_module_version": "1.2.0",
            "_model_name": "LayoutModel",
            "_view_count": null,
            "_view_module": "@jupyter-widgets/base",
            "_view_module_version": "1.2.0",
            "_view_name": "LayoutView",
            "align_content": null,
            "align_items": null,
            "align_self": null,
            "border": null,
            "bottom": null,
            "display": null,
            "flex": null,
            "flex_flow": null,
            "grid_area": null,
            "grid_auto_columns": null,
            "grid_auto_flow": null,
            "grid_auto_rows": null,
            "grid_column": null,
            "grid_gap": null,
            "grid_row": null,
            "grid_template_areas": null,
            "grid_template_columns": null,
            "grid_template_rows": null,
            "height": null,
            "justify_content": null,
            "justify_items": null,
            "left": null,
            "margin": null,
            "max_height": null,
            "max_width": null,
            "min_height": null,
            "min_width": null,
            "object_fit": null,
            "object_position": null,
            "order": null,
            "overflow": null,
            "overflow_x": null,
            "overflow_y": null,
            "padding": null,
            "right": null,
            "top": null,
            "visibility": null,
            "width": null
          }
        },
        "319bbd527b0941feb45f29e0ac947ea8": {
          "model_module": "@jupyter-widgets/base",
          "model_name": "LayoutModel",
          "model_module_version": "1.2.0",
          "state": {
            "_model_module": "@jupyter-widgets/base",
            "_model_module_version": "1.2.0",
            "_model_name": "LayoutModel",
            "_view_count": null,
            "_view_module": "@jupyter-widgets/base",
            "_view_module_version": "1.2.0",
            "_view_name": "LayoutView",
            "align_content": null,
            "align_items": null,
            "align_self": null,
            "border": null,
            "bottom": null,
            "display": null,
            "flex": null,
            "flex_flow": null,
            "grid_area": null,
            "grid_auto_columns": null,
            "grid_auto_flow": null,
            "grid_auto_rows": null,
            "grid_column": null,
            "grid_gap": null,
            "grid_row": null,
            "grid_template_areas": null,
            "grid_template_columns": null,
            "grid_template_rows": null,
            "height": null,
            "justify_content": null,
            "justify_items": null,
            "left": null,
            "margin": null,
            "max_height": null,
            "max_width": null,
            "min_height": null,
            "min_width": null,
            "object_fit": null,
            "object_position": null,
            "order": null,
            "overflow": null,
            "overflow_x": null,
            "overflow_y": null,
            "padding": null,
            "right": null,
            "top": null,
            "visibility": null,
            "width": null
          }
        },
        "c63ea2d9444a466e90a9677d3b2a410f": {
          "model_module": "@jupyter-widgets/controls",
          "model_name": "DescriptionStyleModel",
          "model_module_version": "1.5.0",
          "state": {
            "_model_module": "@jupyter-widgets/controls",
            "_model_module_version": "1.5.0",
            "_model_name": "DescriptionStyleModel",
            "_view_count": null,
            "_view_module": "@jupyter-widgets/base",
            "_view_module_version": "1.2.0",
            "_view_name": "StyleView",
            "description_width": ""
          }
        },
        "b29e42ef1ee8473394ec30b120a4538e": {
          "model_module": "@jupyter-widgets/base",
          "model_name": "LayoutModel",
          "model_module_version": "1.2.0",
          "state": {
            "_model_module": "@jupyter-widgets/base",
            "_model_module_version": "1.2.0",
            "_model_name": "LayoutModel",
            "_view_count": null,
            "_view_module": "@jupyter-widgets/base",
            "_view_module_version": "1.2.0",
            "_view_name": "LayoutView",
            "align_content": null,
            "align_items": null,
            "align_self": null,
            "border": null,
            "bottom": null,
            "display": null,
            "flex": null,
            "flex_flow": null,
            "grid_area": null,
            "grid_auto_columns": null,
            "grid_auto_flow": null,
            "grid_auto_rows": null,
            "grid_column": null,
            "grid_gap": null,
            "grid_row": null,
            "grid_template_areas": null,
            "grid_template_columns": null,
            "grid_template_rows": null,
            "height": null,
            "justify_content": null,
            "justify_items": null,
            "left": null,
            "margin": null,
            "max_height": null,
            "max_width": null,
            "min_height": null,
            "min_width": null,
            "object_fit": null,
            "object_position": null,
            "order": null,
            "overflow": null,
            "overflow_x": null,
            "overflow_y": null,
            "padding": null,
            "right": null,
            "top": null,
            "visibility": null,
            "width": null
          }
        },
        "6d1a9572f0044985a638fd41d2e0c271": {
          "model_module": "@jupyter-widgets/controls",
          "model_name": "ProgressStyleModel",
          "model_module_version": "1.5.0",
          "state": {
            "_model_module": "@jupyter-widgets/controls",
            "_model_module_version": "1.5.0",
            "_model_name": "ProgressStyleModel",
            "_view_count": null,
            "_view_module": "@jupyter-widgets/base",
            "_view_module_version": "1.2.0",
            "_view_name": "StyleView",
            "bar_color": null,
            "description_width": ""
          }
        },
        "12c568ce60b840109efd71eddaa00bc8": {
          "model_module": "@jupyter-widgets/base",
          "model_name": "LayoutModel",
          "model_module_version": "1.2.0",
          "state": {
            "_model_module": "@jupyter-widgets/base",
            "_model_module_version": "1.2.0",
            "_model_name": "LayoutModel",
            "_view_count": null,
            "_view_module": "@jupyter-widgets/base",
            "_view_module_version": "1.2.0",
            "_view_name": "LayoutView",
            "align_content": null,
            "align_items": null,
            "align_self": null,
            "border": null,
            "bottom": null,
            "display": null,
            "flex": null,
            "flex_flow": null,
            "grid_area": null,
            "grid_auto_columns": null,
            "grid_auto_flow": null,
            "grid_auto_rows": null,
            "grid_column": null,
            "grid_gap": null,
            "grid_row": null,
            "grid_template_areas": null,
            "grid_template_columns": null,
            "grid_template_rows": null,
            "height": null,
            "justify_content": null,
            "justify_items": null,
            "left": null,
            "margin": null,
            "max_height": null,
            "max_width": null,
            "min_height": null,
            "min_width": null,
            "object_fit": null,
            "object_position": null,
            "order": null,
            "overflow": null,
            "overflow_x": null,
            "overflow_y": null,
            "padding": null,
            "right": null,
            "top": null,
            "visibility": null,
            "width": null
          }
        },
        "97305c080e66403bb67df4454bd4c093": {
          "model_module": "@jupyter-widgets/controls",
          "model_name": "DescriptionStyleModel",
          "model_module_version": "1.5.0",
          "state": {
            "_model_module": "@jupyter-widgets/controls",
            "_model_module_version": "1.5.0",
            "_model_name": "DescriptionStyleModel",
            "_view_count": null,
            "_view_module": "@jupyter-widgets/base",
            "_view_module_version": "1.2.0",
            "_view_name": "StyleView",
            "description_width": ""
          }
        },
        "7b95f773ccfb4f898ccbba9dfaeaaf4f": {
          "model_module": "@jupyter-widgets/controls",
          "model_name": "HBoxModel",
          "model_module_version": "1.5.0",
          "state": {
            "_dom_classes": [],
            "_model_module": "@jupyter-widgets/controls",
            "_model_module_version": "1.5.0",
            "_model_name": "HBoxModel",
            "_view_count": null,
            "_view_module": "@jupyter-widgets/controls",
            "_view_module_version": "1.5.0",
            "_view_name": "HBoxView",
            "box_style": "",
            "children": [
              "IPY_MODEL_03fdf3dca7c340cfad19ca7af784c3cf",
              "IPY_MODEL_9f92d7271b894c4cb2425c8373a77f33",
              "IPY_MODEL_6b7d26c18dda4fa79aa73cd5bbb96cb1"
            ],
            "layout": "IPY_MODEL_be1ff1e4d5a4481bb12ef9aea04fe051"
          }
        },
        "03fdf3dca7c340cfad19ca7af784c3cf": {
          "model_module": "@jupyter-widgets/controls",
          "model_name": "HTMLModel",
          "model_module_version": "1.5.0",
          "state": {
            "_dom_classes": [],
            "_model_module": "@jupyter-widgets/controls",
            "_model_module_version": "1.5.0",
            "_model_name": "HTMLModel",
            "_view_count": null,
            "_view_module": "@jupyter-widgets/controls",
            "_view_module_version": "1.5.0",
            "_view_name": "HTMLView",
            "description": "",
            "description_tooltip": null,
            "layout": "IPY_MODEL_ef06c04a576841398e8d666d6c5ead2d",
            "placeholder": "​",
            "style": "IPY_MODEL_0118488f1c1d4349a6f2b83568c52857",
            "value": "100%"
          }
        },
        "9f92d7271b894c4cb2425c8373a77f33": {
          "model_module": "@jupyter-widgets/controls",
          "model_name": "FloatProgressModel",
          "model_module_version": "1.5.0",
          "state": {
            "_dom_classes": [],
            "_model_module": "@jupyter-widgets/controls",
            "_model_module_version": "1.5.0",
            "_model_name": "FloatProgressModel",
            "_view_count": null,
            "_view_module": "@jupyter-widgets/controls",
            "_view_module_version": "1.5.0",
            "_view_name": "ProgressView",
            "bar_style": "success",
            "description": "",
            "description_tooltip": null,
            "layout": "IPY_MODEL_38a3db5b372e4baf954f1424a3d981ca",
            "max": 23,
            "min": 0,
            "orientation": "horizontal",
            "style": "IPY_MODEL_065e4a105e3145f8bf20921b7e3717dc",
            "value": 23
          }
        },
        "6b7d26c18dda4fa79aa73cd5bbb96cb1": {
          "model_module": "@jupyter-widgets/controls",
          "model_name": "HTMLModel",
          "model_module_version": "1.5.0",
          "state": {
            "_dom_classes": [],
            "_model_module": "@jupyter-widgets/controls",
            "_model_module_version": "1.5.0",
            "_model_name": "HTMLModel",
            "_view_count": null,
            "_view_module": "@jupyter-widgets/controls",
            "_view_module_version": "1.5.0",
            "_view_name": "HTMLView",
            "description": "",
            "description_tooltip": null,
            "layout": "IPY_MODEL_969c2074a0b0494bbcdc3d5373c1553a",
            "placeholder": "​",
            "style": "IPY_MODEL_5d996f9264244b1e8b20b54bf2f0c01b",
            "value": " 23/23 [07:45&lt;00:00,  7.96s/it, ind_id=174, samples=2, neighbors=108171]"
          }
        },
        "be1ff1e4d5a4481bb12ef9aea04fe051": {
          "model_module": "@jupyter-widgets/base",
          "model_name": "LayoutModel",
          "model_module_version": "1.2.0",
          "state": {
            "_model_module": "@jupyter-widgets/base",
            "_model_module_version": "1.2.0",
            "_model_name": "LayoutModel",
            "_view_count": null,
            "_view_module": "@jupyter-widgets/base",
            "_view_module_version": "1.2.0",
            "_view_name": "LayoutView",
            "align_content": null,
            "align_items": null,
            "align_self": null,
            "border": null,
            "bottom": null,
            "display": null,
            "flex": null,
            "flex_flow": null,
            "grid_area": null,
            "grid_auto_columns": null,
            "grid_auto_flow": null,
            "grid_auto_rows": null,
            "grid_column": null,
            "grid_gap": null,
            "grid_row": null,
            "grid_template_areas": null,
            "grid_template_columns": null,
            "grid_template_rows": null,
            "height": null,
            "justify_content": null,
            "justify_items": null,
            "left": null,
            "margin": null,
            "max_height": null,
            "max_width": null,
            "min_height": null,
            "min_width": null,
            "object_fit": null,
            "object_position": null,
            "order": null,
            "overflow": null,
            "overflow_x": null,
            "overflow_y": null,
            "padding": null,
            "right": null,
            "top": null,
            "visibility": null,
            "width": null
          }
        },
        "ef06c04a576841398e8d666d6c5ead2d": {
          "model_module": "@jupyter-widgets/base",
          "model_name": "LayoutModel",
          "model_module_version": "1.2.0",
          "state": {
            "_model_module": "@jupyter-widgets/base",
            "_model_module_version": "1.2.0",
            "_model_name": "LayoutModel",
            "_view_count": null,
            "_view_module": "@jupyter-widgets/base",
            "_view_module_version": "1.2.0",
            "_view_name": "LayoutView",
            "align_content": null,
            "align_items": null,
            "align_self": null,
            "border": null,
            "bottom": null,
            "display": null,
            "flex": null,
            "flex_flow": null,
            "grid_area": null,
            "grid_auto_columns": null,
            "grid_auto_flow": null,
            "grid_auto_rows": null,
            "grid_column": null,
            "grid_gap": null,
            "grid_row": null,
            "grid_template_areas": null,
            "grid_template_columns": null,
            "grid_template_rows": null,
            "height": null,
            "justify_content": null,
            "justify_items": null,
            "left": null,
            "margin": null,
            "max_height": null,
            "max_width": null,
            "min_height": null,
            "min_width": null,
            "object_fit": null,
            "object_position": null,
            "order": null,
            "overflow": null,
            "overflow_x": null,
            "overflow_y": null,
            "padding": null,
            "right": null,
            "top": null,
            "visibility": null,
            "width": null
          }
        },
        "0118488f1c1d4349a6f2b83568c52857": {
          "model_module": "@jupyter-widgets/controls",
          "model_name": "DescriptionStyleModel",
          "model_module_version": "1.5.0",
          "state": {
            "_model_module": "@jupyter-widgets/controls",
            "_model_module_version": "1.5.0",
            "_model_name": "DescriptionStyleModel",
            "_view_count": null,
            "_view_module": "@jupyter-widgets/base",
            "_view_module_version": "1.2.0",
            "_view_name": "StyleView",
            "description_width": ""
          }
        },
        "38a3db5b372e4baf954f1424a3d981ca": {
          "model_module": "@jupyter-widgets/base",
          "model_name": "LayoutModel",
          "model_module_version": "1.2.0",
          "state": {
            "_model_module": "@jupyter-widgets/base",
            "_model_module_version": "1.2.0",
            "_model_name": "LayoutModel",
            "_view_count": null,
            "_view_module": "@jupyter-widgets/base",
            "_view_module_version": "1.2.0",
            "_view_name": "LayoutView",
            "align_content": null,
            "align_items": null,
            "align_self": null,
            "border": null,
            "bottom": null,
            "display": null,
            "flex": null,
            "flex_flow": null,
            "grid_area": null,
            "grid_auto_columns": null,
            "grid_auto_flow": null,
            "grid_auto_rows": null,
            "grid_column": null,
            "grid_gap": null,
            "grid_row": null,
            "grid_template_areas": null,
            "grid_template_columns": null,
            "grid_template_rows": null,
            "height": null,
            "justify_content": null,
            "justify_items": null,
            "left": null,
            "margin": null,
            "max_height": null,
            "max_width": null,
            "min_height": null,
            "min_width": null,
            "object_fit": null,
            "object_position": null,
            "order": null,
            "overflow": null,
            "overflow_x": null,
            "overflow_y": null,
            "padding": null,
            "right": null,
            "top": null,
            "visibility": null,
            "width": null
          }
        },
        "065e4a105e3145f8bf20921b7e3717dc": {
          "model_module": "@jupyter-widgets/controls",
          "model_name": "ProgressStyleModel",
          "model_module_version": "1.5.0",
          "state": {
            "_model_module": "@jupyter-widgets/controls",
            "_model_module_version": "1.5.0",
            "_model_name": "ProgressStyleModel",
            "_view_count": null,
            "_view_module": "@jupyter-widgets/base",
            "_view_module_version": "1.2.0",
            "_view_name": "StyleView",
            "bar_color": null,
            "description_width": ""
          }
        },
        "969c2074a0b0494bbcdc3d5373c1553a": {
          "model_module": "@jupyter-widgets/base",
          "model_name": "LayoutModel",
          "model_module_version": "1.2.0",
          "state": {
            "_model_module": "@jupyter-widgets/base",
            "_model_module_version": "1.2.0",
            "_model_name": "LayoutModel",
            "_view_count": null,
            "_view_module": "@jupyter-widgets/base",
            "_view_module_version": "1.2.0",
            "_view_name": "LayoutView",
            "align_content": null,
            "align_items": null,
            "align_self": null,
            "border": null,
            "bottom": null,
            "display": null,
            "flex": null,
            "flex_flow": null,
            "grid_area": null,
            "grid_auto_columns": null,
            "grid_auto_flow": null,
            "grid_auto_rows": null,
            "grid_column": null,
            "grid_gap": null,
            "grid_row": null,
            "grid_template_areas": null,
            "grid_template_columns": null,
            "grid_template_rows": null,
            "height": null,
            "justify_content": null,
            "justify_items": null,
            "left": null,
            "margin": null,
            "max_height": null,
            "max_width": null,
            "min_height": null,
            "min_width": null,
            "object_fit": null,
            "object_position": null,
            "order": null,
            "overflow": null,
            "overflow_x": null,
            "overflow_y": null,
            "padding": null,
            "right": null,
            "top": null,
            "visibility": null,
            "width": null
          }
        },
        "5d996f9264244b1e8b20b54bf2f0c01b": {
          "model_module": "@jupyter-widgets/controls",
          "model_name": "DescriptionStyleModel",
          "model_module_version": "1.5.0",
          "state": {
            "_model_module": "@jupyter-widgets/controls",
            "_model_module_version": "1.5.0",
            "_model_name": "DescriptionStyleModel",
            "_view_count": null,
            "_view_module": "@jupyter-widgets/base",
            "_view_module_version": "1.2.0",
            "_view_name": "StyleView",
            "description_width": ""
          }
        },
        "57947995f20445e1ba33e1fe1975e6c6": {
          "model_module": "@jupyter-widgets/controls",
          "model_name": "HBoxModel",
          "model_module_version": "1.5.0",
          "state": {
            "_dom_classes": [],
            "_model_module": "@jupyter-widgets/controls",
            "_model_module_version": "1.5.0",
            "_model_name": "HBoxModel",
            "_view_count": null,
            "_view_module": "@jupyter-widgets/controls",
            "_view_module_version": "1.5.0",
            "_view_name": "HBoxView",
            "box_style": "",
            "children": [
              "IPY_MODEL_1783a2f7087c494ba7f6f5f2598040ad",
              "IPY_MODEL_e4fa4c1a5cbb4800bf508c64ce182d70",
              "IPY_MODEL_b6f40d26f6434b9a8d35a3a229bc28c7"
            ],
            "layout": "IPY_MODEL_ff9851ea7eb248198ba022a95b73f061"
          }
        },
        "1783a2f7087c494ba7f6f5f2598040ad": {
          "model_module": "@jupyter-widgets/controls",
          "model_name": "HTMLModel",
          "model_module_version": "1.5.0",
          "state": {
            "_dom_classes": [],
            "_model_module": "@jupyter-widgets/controls",
            "_model_module_version": "1.5.0",
            "_model_name": "HTMLModel",
            "_view_count": null,
            "_view_module": "@jupyter-widgets/controls",
            "_view_module_version": "1.5.0",
            "_view_name": "HTMLView",
            "description": "",
            "description_tooltip": null,
            "layout": "IPY_MODEL_2f6ab07a2db649cdbcc1ccfba1febe49",
            "placeholder": "​",
            "style": "IPY_MODEL_3ddb860045894e84ab42b91152ac1466",
            "value": "100%"
          }
        },
        "e4fa4c1a5cbb4800bf508c64ce182d70": {
          "model_module": "@jupyter-widgets/controls",
          "model_name": "FloatProgressModel",
          "model_module_version": "1.5.0",
          "state": {
            "_dom_classes": [],
            "_model_module": "@jupyter-widgets/controls",
            "_model_module_version": "1.5.0",
            "_model_name": "FloatProgressModel",
            "_view_count": null,
            "_view_module": "@jupyter-widgets/controls",
            "_view_module_version": "1.5.0",
            "_view_name": "ProgressView",
            "bar_style": "success",
            "description": "",
            "description_tooltip": null,
            "layout": "IPY_MODEL_ad53b8ba9a2241bfbd583ca4d6b0aae7",
            "max": 23,
            "min": 0,
            "orientation": "horizontal",
            "style": "IPY_MODEL_74354cd341bb4ca8820307ef77bc3643",
            "value": 23
          }
        },
        "b6f40d26f6434b9a8d35a3a229bc28c7": {
          "model_module": "@jupyter-widgets/controls",
          "model_name": "HTMLModel",
          "model_module_version": "1.5.0",
          "state": {
            "_dom_classes": [],
            "_model_module": "@jupyter-widgets/controls",
            "_model_module_version": "1.5.0",
            "_model_name": "HTMLModel",
            "_view_count": null,
            "_view_module": "@jupyter-widgets/controls",
            "_view_module_version": "1.5.0",
            "_view_name": "HTMLView",
            "description": "",
            "description_tooltip": null,
            "layout": "IPY_MODEL_60c5ba6d6c9644d595db2435ebbda065",
            "placeholder": "​",
            "style": "IPY_MODEL_809b9dc41c924a6680cc2f1fa99447d6",
            "value": " 23/23 [07:47&lt;00:00,  8.00s/it, ind_id=174, samples=2, neighbors=108171]"
          }
        },
        "ff9851ea7eb248198ba022a95b73f061": {
          "model_module": "@jupyter-widgets/base",
          "model_name": "LayoutModel",
          "model_module_version": "1.2.0",
          "state": {
            "_model_module": "@jupyter-widgets/base",
            "_model_module_version": "1.2.0",
            "_model_name": "LayoutModel",
            "_view_count": null,
            "_view_module": "@jupyter-widgets/base",
            "_view_module_version": "1.2.0",
            "_view_name": "LayoutView",
            "align_content": null,
            "align_items": null,
            "align_self": null,
            "border": null,
            "bottom": null,
            "display": null,
            "flex": null,
            "flex_flow": null,
            "grid_area": null,
            "grid_auto_columns": null,
            "grid_auto_flow": null,
            "grid_auto_rows": null,
            "grid_column": null,
            "grid_gap": null,
            "grid_row": null,
            "grid_template_areas": null,
            "grid_template_columns": null,
            "grid_template_rows": null,
            "height": null,
            "justify_content": null,
            "justify_items": null,
            "left": null,
            "margin": null,
            "max_height": null,
            "max_width": null,
            "min_height": null,
            "min_width": null,
            "object_fit": null,
            "object_position": null,
            "order": null,
            "overflow": null,
            "overflow_x": null,
            "overflow_y": null,
            "padding": null,
            "right": null,
            "top": null,
            "visibility": null,
            "width": null
          }
        },
        "2f6ab07a2db649cdbcc1ccfba1febe49": {
          "model_module": "@jupyter-widgets/base",
          "model_name": "LayoutModel",
          "model_module_version": "1.2.0",
          "state": {
            "_model_module": "@jupyter-widgets/base",
            "_model_module_version": "1.2.0",
            "_model_name": "LayoutModel",
            "_view_count": null,
            "_view_module": "@jupyter-widgets/base",
            "_view_module_version": "1.2.0",
            "_view_name": "LayoutView",
            "align_content": null,
            "align_items": null,
            "align_self": null,
            "border": null,
            "bottom": null,
            "display": null,
            "flex": null,
            "flex_flow": null,
            "grid_area": null,
            "grid_auto_columns": null,
            "grid_auto_flow": null,
            "grid_auto_rows": null,
            "grid_column": null,
            "grid_gap": null,
            "grid_row": null,
            "grid_template_areas": null,
            "grid_template_columns": null,
            "grid_template_rows": null,
            "height": null,
            "justify_content": null,
            "justify_items": null,
            "left": null,
            "margin": null,
            "max_height": null,
            "max_width": null,
            "min_height": null,
            "min_width": null,
            "object_fit": null,
            "object_position": null,
            "order": null,
            "overflow": null,
            "overflow_x": null,
            "overflow_y": null,
            "padding": null,
            "right": null,
            "top": null,
            "visibility": null,
            "width": null
          }
        },
        "3ddb860045894e84ab42b91152ac1466": {
          "model_module": "@jupyter-widgets/controls",
          "model_name": "DescriptionStyleModel",
          "model_module_version": "1.5.0",
          "state": {
            "_model_module": "@jupyter-widgets/controls",
            "_model_module_version": "1.5.0",
            "_model_name": "DescriptionStyleModel",
            "_view_count": null,
            "_view_module": "@jupyter-widgets/base",
            "_view_module_version": "1.2.0",
            "_view_name": "StyleView",
            "description_width": ""
          }
        },
        "ad53b8ba9a2241bfbd583ca4d6b0aae7": {
          "model_module": "@jupyter-widgets/base",
          "model_name": "LayoutModel",
          "model_module_version": "1.2.0",
          "state": {
            "_model_module": "@jupyter-widgets/base",
            "_model_module_version": "1.2.0",
            "_model_name": "LayoutModel",
            "_view_count": null,
            "_view_module": "@jupyter-widgets/base",
            "_view_module_version": "1.2.0",
            "_view_name": "LayoutView",
            "align_content": null,
            "align_items": null,
            "align_self": null,
            "border": null,
            "bottom": null,
            "display": null,
            "flex": null,
            "flex_flow": null,
            "grid_area": null,
            "grid_auto_columns": null,
            "grid_auto_flow": null,
            "grid_auto_rows": null,
            "grid_column": null,
            "grid_gap": null,
            "grid_row": null,
            "grid_template_areas": null,
            "grid_template_columns": null,
            "grid_template_rows": null,
            "height": null,
            "justify_content": null,
            "justify_items": null,
            "left": null,
            "margin": null,
            "max_height": null,
            "max_width": null,
            "min_height": null,
            "min_width": null,
            "object_fit": null,
            "object_position": null,
            "order": null,
            "overflow": null,
            "overflow_x": null,
            "overflow_y": null,
            "padding": null,
            "right": null,
            "top": null,
            "visibility": null,
            "width": null
          }
        },
        "74354cd341bb4ca8820307ef77bc3643": {
          "model_module": "@jupyter-widgets/controls",
          "model_name": "ProgressStyleModel",
          "model_module_version": "1.5.0",
          "state": {
            "_model_module": "@jupyter-widgets/controls",
            "_model_module_version": "1.5.0",
            "_model_name": "ProgressStyleModel",
            "_view_count": null,
            "_view_module": "@jupyter-widgets/base",
            "_view_module_version": "1.2.0",
            "_view_name": "StyleView",
            "bar_color": null,
            "description_width": ""
          }
        },
        "60c5ba6d6c9644d595db2435ebbda065": {
          "model_module": "@jupyter-widgets/base",
          "model_name": "LayoutModel",
          "model_module_version": "1.2.0",
          "state": {
            "_model_module": "@jupyter-widgets/base",
            "_model_module_version": "1.2.0",
            "_model_name": "LayoutModel",
            "_view_count": null,
            "_view_module": "@jupyter-widgets/base",
            "_view_module_version": "1.2.0",
            "_view_name": "LayoutView",
            "align_content": null,
            "align_items": null,
            "align_self": null,
            "border": null,
            "bottom": null,
            "display": null,
            "flex": null,
            "flex_flow": null,
            "grid_area": null,
            "grid_auto_columns": null,
            "grid_auto_flow": null,
            "grid_auto_rows": null,
            "grid_column": null,
            "grid_gap": null,
            "grid_row": null,
            "grid_template_areas": null,
            "grid_template_columns": null,
            "grid_template_rows": null,
            "height": null,
            "justify_content": null,
            "justify_items": null,
            "left": null,
            "margin": null,
            "max_height": null,
            "max_width": null,
            "min_height": null,
            "min_width": null,
            "object_fit": null,
            "object_position": null,
            "order": null,
            "overflow": null,
            "overflow_x": null,
            "overflow_y": null,
            "padding": null,
            "right": null,
            "top": null,
            "visibility": null,
            "width": null
          }
        },
        "809b9dc41c924a6680cc2f1fa99447d6": {
          "model_module": "@jupyter-widgets/controls",
          "model_name": "DescriptionStyleModel",
          "model_module_version": "1.5.0",
          "state": {
            "_model_module": "@jupyter-widgets/controls",
            "_model_module_version": "1.5.0",
            "_model_name": "DescriptionStyleModel",
            "_view_count": null,
            "_view_module": "@jupyter-widgets/base",
            "_view_module_version": "1.2.0",
            "_view_name": "StyleView",
            "description_width": ""
          }
        }
      }
    }
  },
  "cells": [
    {
      "cell_type": "markdown",
      "metadata": {
        "id": "view-in-github",
        "colab_type": "text"
      },
      "source": [
        "<a href=\"https://colab.research.google.com/github/Subangkar/Simsig-paper-codebase/blob/main/Simsig.ipynb\" target=\"_parent\"><img src=\"https://colab.research.google.com/assets/colab-badge.svg\" alt=\"Open In Colab\"/></a>"
      ]
    },
    {
      "cell_type": "code",
      "execution_count": 1,
      "metadata": {
        "id": "IHCF_a-5eEyE"
      },
      "outputs": [],
      "source": [
        "%load_ext autoreload\n",
        "%autoreload 2"
      ]
    },
    {
      "cell_type": "code",
      "source": [
        "# Loaded data from drive\n",
        "%cd /content/drive/MyDrive/Simsig-paper-codebase"
      ],
      "metadata": {
        "colab": {
          "base_uri": "https://localhost:8080/"
        },
        "id": "xCEfY4z3fEP7",
        "outputId": "84050cc3-6d35-4414-a0dd-65a5d2600c35"
      },
      "execution_count": 2,
      "outputs": [
        {
          "output_type": "stream",
          "name": "stdout",
          "text": [
            "/content/drive/MyDrive/Simsig-paper-codebase\n"
          ]
        }
      ]
    },
    {
      "cell_type": "markdown",
      "source": [
        "###Model Loading & Patient Database Generation"
      ],
      "metadata": {
        "id": "dg6K3UXfeLEp"
      }
    },
    {
      "cell_type": "code",
      "source": [
        "import os\n",
        "import numpy as np\n",
        "import torch\n",
        "from torch import nn\n",
        "from torch.utils.data import DataLoader\n",
        "from tqdm.auto import tqdm"
      ],
      "metadata": {
        "id": "wbMqwwPVeKRz"
      },
      "execution_count": 3,
      "outputs": []
    },
    {
      "cell_type": "code",
      "source": [
        "import dataloaders.deepbeat\n",
        "# SimCLR\n",
        "from models.resnext1d import ResNext1D\n",
        "from models.simclr.simclrmulti_resnext import SimCLRMulti_Resnext"
      ],
      "metadata": {
        "id": "zT30kTf7eKT4"
      },
      "execution_count": 4,
      "outputs": []
    },
    {
      "cell_type": "code",
      "source": [
        "DATA_PATH = 'data'\n",
        "BATCH_SIZE = 512\n",
        "MMAP = True\n",
        "MODEL_FILENAME = 'simclr_ntxentmulti'\n",
        "device = 'cuda' if torch.cuda.is_available() else 'cpu'\n",
        "print(\"Device:\", device)\n",
        "\n",
        "if not os.path.exists('artifacts'):\n",
        "    os.makedirs('artifacts', exist_ok=True)"
      ],
      "metadata": {
        "colab": {
          "base_uri": "https://localhost:8080/"
        },
        "id": "B3HfVVJheU06",
        "outputId": "01de2a51-ea9f-4320-eb59-5ddb3840b134"
      },
      "execution_count": 5,
      "outputs": [
        {
          "output_type": "stream",
          "name": "stdout",
          "text": [
            "Device: cuda\n"
          ]
        }
      ]
    },
    {
      "cell_type": "code",
      "source": [
        "class FeatNet(nn.Module):\n",
        "    def __init__(self, model, skip_last_n=2):\n",
        "        super().__init__()\n",
        "        self.features = nn.Sequential(*list(model.children())[:-skip_last_n])\n",
        "\n",
        "    def forward(self, x):\n",
        "        return self.features(x).view(x.size(0), -1)\n"
      ],
      "metadata": {
        "id": "j8P66Y9qeYPP"
      },
      "execution_count": 6,
      "outputs": []
    },
    {
      "cell_type": "code",
      "source": [
        "def get_embeddings(model: nn.Module, generator: DataLoader, desc='') -> (np.ndarray, np.ndarray):\n",
        "    t = tqdm(generator, desc=f\"{desc}\", total=len(generator))\n",
        "    embeddings = []\n",
        "    labels = []\n",
        "    ids = []\n",
        "    for step, batch in enumerate(t):\n",
        "        x, label, id = batch\n",
        "        x = x.to(device=device, non_blocking=True)\n",
        "        embedding = model(x)\n",
        "        embeddings.append(embedding.cpu().numpy())\n",
        "        labels.append(label.argmax(dim=1))\n",
        "        ids.append(id)\n",
        "        # print(embedding.size(), ids, labels)\n",
        "        # break\n",
        "\n",
        "    embeddings = np.concatenate(embeddings, axis=0)\n",
        "    return embeddings, torch.cat(labels, dim=0).cpu().numpy(), torch.cat(ids, dim=0).cpu().numpy()\n"
      ],
      "metadata": {
        "id": "GOLDAIBEed0M"
      },
      "execution_count": 7,
      "outputs": []
    },
    {
      "cell_type": "code",
      "source": [
        "# SimCLR model\n",
        "model_encoder = SimCLRMulti_Resnext(projection_dim=128)\n",
        "model_encoder = model_encoder.to(device)\n",
        "model_encoder.load_state_dict(\n",
        "    torch.load(f'saved_model/{MODEL_FILENAME}.pt', map_location=device)['state_dict']\n",
        ")\n",
        "model_encoder.eval()\n",
        "\n",
        "model = FeatNet(model=model_encoder, skip_last_n=1).to(device)\n",
        "model.eval()\n",
        "''\n"
      ],
      "metadata": {
        "colab": {
          "base_uri": "https://localhost:8080/",
          "height": 53
        },
        "id": "6I3YdWOzenF2",
        "outputId": "b86dd871-0ed8-4cae-f042-f27d3abee717"
      },
      "execution_count": 8,
      "outputs": [
        {
          "output_type": "stream",
          "name": "stdout",
          "text": [
            "Representation Dim:  1024 Projection Dim:  128\n"
          ]
        },
        {
          "output_type": "execute_result",
          "data": {
            "text/plain": [
              "''"
            ],
            "application/vnd.google.colaboratory.intrinsic+json": {
              "type": "string"
            }
          },
          "metadata": {},
          "execution_count": 8
        }
      ]
    },
    {
      "cell_type": "code",
      "source": [
        "# Generated Patient Database is saved in `artifacts` folder\n",
        "with torch.no_grad():\n",
        "    train_generator = dataloaders.deepbeat.getGenerator(os.path.join(DATA_PATH, 'train'),\n",
        "                                                        batch_size=BATCH_SIZE, shuffle=False,\n",
        "                                                        mmap=MMAP)\n",
        "    X_embds_train, y_train, y_ids = get_embeddings(model, generator=train_generator, desc='train')\n",
        "    print(X_embds_train.shape)\n",
        "    np.save('artifacts/X_embds1024_train.npy', X_embds_train)\n",
        "    np.save('artifacts/y_train.npy', y_train)\n",
        "    np.save('artifacts/y_train_id.npy', y_ids)\n"
      ],
      "metadata": {
        "colab": {
          "base_uri": "https://localhost:8080/",
          "height": 66,
          "referenced_widgets": [
            "fdde87690ba44ef9b7c80cd2f9bb51e7",
            "3bb3d08a5fe74e0d80e8e1f77f227ae8",
            "19dc517367604e6bace68cefb15d38bd",
            "4120050939fd4bd883ab6e0c73342c46",
            "1a3f2a1e8b624d7798d779b9888c6ba6",
            "dc17238213644b4e814cb56f70abacbc",
            "5683e5a9b2444a27852259e75a6fbf8f",
            "2febcdb400c549cf9c2030af3e8905fb",
            "48790c8e89374a24a97c169bdd104443",
            "d79dea37974747b4bd2d99a4affe3323",
            "d40a1adf56b54466a47d8642329eb695"
          ]
        },
        "id": "LfMqUlFAeqPR",
        "outputId": "647e6b2d-edd4-4ebb-bda7-da08f670912c"
      },
      "execution_count": 16,
      "outputs": [
        {
          "output_type": "display_data",
          "data": {
            "text/plain": [
              "train:   0%|          | 0/212 [00:00<?, ?it/s]"
            ],
            "application/vnd.jupyter.widget-view+json": {
              "version_major": 2,
              "version_minor": 0,
              "model_id": "fdde87690ba44ef9b7c80cd2f9bb51e7"
            }
          },
          "metadata": {}
        },
        {
          "output_type": "stream",
          "name": "stdout",
          "text": [
            "(108171, 1024)\n"
          ]
        }
      ]
    },
    {
      "cell_type": "markdown",
      "source": [
        "Test Set Embeddings Generation"
      ],
      "metadata": {
        "id": "PBbYGFN5foux"
      }
    },
    {
      "cell_type": "code",
      "source": [
        "\n",
        "with torch.no_grad():\n",
        "    test_generator = dataloaders.deepbeat.getGenerator(os.path.join(DATA_PATH, 'test'),\n",
        "                                                       batch_size=BATCH_SIZE, shuffle=False,\n",
        "                                                       mmap=MMAP)\n",
        "    X_embds_test, y_test, y_ids = get_embeddings(model, generator=test_generator, desc='test')\n",
        "    print(X_embds_test.shape)\n",
        "    np.save('artifacts/X_embds1024_test.npy', X_embds_test)\n",
        "    np.save('artifacts/y_test.npy', y_test)\n",
        "    np.save('artifacts/y_test_id.npy', y_ids)\n"
      ],
      "metadata": {
        "colab": {
          "base_uri": "https://localhost:8080/",
          "height": 66,
          "referenced_widgets": [
            "47a25f182821457f84ffcb464dd0a4cc",
            "930e08694b124c2c9d56417d6af6085f",
            "9661a09ca8b847c7a025a51159a31023",
            "66c0d1a4de214536aedd4292747d8105",
            "4cbe355111c1422ebde54750d73a9061",
            "319bbd527b0941feb45f29e0ac947ea8",
            "c63ea2d9444a466e90a9677d3b2a410f",
            "b29e42ef1ee8473394ec30b120a4538e",
            "6d1a9572f0044985a638fd41d2e0c271",
            "12c568ce60b840109efd71eddaa00bc8",
            "97305c080e66403bb67df4454bd4c093"
          ]
        },
        "id": "hGsED-freqxj",
        "outputId": "308d45bf-e6ea-413a-9aaa-ccd01c635deb"
      },
      "execution_count": 10,
      "outputs": [
        {
          "output_type": "display_data",
          "data": {
            "text/plain": [
              "test:   0%|          | 0/49 [00:00<?, ?it/s]"
            ],
            "application/vnd.jupyter.widget-view+json": {
              "version_major": 2,
              "version_minor": 0,
              "model_id": "47a25f182821457f84ffcb464dd0a4cc"
            }
          },
          "metadata": {}
        },
        {
          "output_type": "stream",
          "name": "stdout",
          "text": [
            "(24579, 1024)\n"
          ]
        }
      ]
    },
    {
      "cell_type": "markdown",
      "source": [
        "###Neighbor Selection & Test Set Result"
      ],
      "metadata": {
        "id": "XHLY_mqMetDL"
      }
    },
    {
      "cell_type": "code",
      "source": [
        "import numpy as np\n",
        "from sklearn.metrics import pairwise_distances\n",
        "from tqdm.auto import tqdm\n",
        "import gc\n",
        "import sklearn.metrics\n",
        "from neighbor_metrics import *\n"
      ],
      "metadata": {
        "id": "Ceut5IodewtT"
      },
      "execution_count": 11,
      "outputs": []
    },
    {
      "cell_type": "code",
      "source": [
        "# MODEL_FILENAME = 'simclr_ntxentmulti'\n",
        "# DATA_PATH = 'data'\n",
        "EMBEDDING_DIM = 1024\n",
        "\n",
        "TEST_SET = 'test'\n",
        "SUPPORT_SET = 'train'\n",
        "\n",
        "X_test_embd = np.load(f'artifacts/X_embds{EMBEDDING_DIM}_{TEST_SET}.npy')\n",
        "y_lb_test = np.load(f'artifacts/y_{TEST_SET}.npy')\n",
        "y_id_test = np.load(f'artifacts/y_{TEST_SET}_id.npy').astype(int)\n",
        "y_id_test_uniq = np.unique(y_id_test)\n",
        "\n",
        "X_supp_embd = np.load(f'artifacts/X_embds{EMBEDDING_DIM}_{SUPPORT_SET}.npy')\n",
        "y_lb = np.load(f'artifacts/y_{SUPPORT_SET}.npy')\n",
        "y_id = np.load(f'artifacts/y_{SUPPORT_SET}_id.npy').astype(int)\n",
        "y_id_uniq = np.unique(y_id)\n",
        "\n",
        "id_to_label_map = ind_to_label_map_generator(y_id, y_lb)\n",
        "id_to_label_map.update(ind_to_label_map_generator(y_id_test, y_lb_test))\n",
        "\n",
        "np.set_printoptions(precision=2)\n"
      ],
      "metadata": {
        "id": "HbFV20Ege2js"
      },
      "execution_count": 19,
      "outputs": []
    },
    {
      "cell_type": "code",
      "source": [
        "def neighbors_unweighted(k_s, nbr_k_fn):\n",
        "    count_corr = [0] * (1 + max(k_s))\n",
        "    count_total = [0] * (1 + max(k_s))\n",
        "    y_true = [[] for i in range(1 + max(k_s))]\n",
        "    y_pred = [[] for i in range(1 + max(k_s))]\n",
        "\n",
        "    t_ind = tqdm(y_id_test_uniq)\n",
        "    for ind in t_ind:\n",
        "        X_ind = X_test_embd[y_id_test == ind]\n",
        "        X_nbr = X_supp_embd\n",
        "        y_nbr_ids = y_id\n",
        "\n",
        "        t_ind.set_postfix({\"ind_id\": ind, \"samples\": len(X_ind), \"neighbors\": len(X_nbr)}, refresh=True)\n",
        "\n",
        "        d_ind = pairwise_distances(X_ind, X_nbr, metric='cosine')\n",
        "\n",
        "        t_ind.set_postfix({\"ind_id\": ind, \"samples\": len(X_ind), \"neighbors\": len(X_nbr), \"d_shape\": d_ind.shape},\n",
        "                          refresh=True)\n",
        "\n",
        "        k = max(k_s)\n",
        "        y_nearest_k = nbr_k_fn(d_ind, y_nbr_ids, k)\n",
        "        y_nearest_labels = ids_to_labels(id_to_label_map, y_nearest_k)\n",
        "\n",
        "        t_ind.set_postfix({\"ind_id\": ind, \"samples\": len(X_ind), \"neighbors\": len(X_nbr)}, refresh=True)\n",
        "        for k in k_s:\n",
        "            count_total[k] += 1\n",
        "            count_corr[k] += int(id_to_label_map[ind] == 1 and y_nearest_labels[:k].sum() >= (k / 2)) + int(\n",
        "                id_to_label_map[ind] == 0 and y_nearest_labels[:k].sum() < (k / 2))\n",
        "            y_true[k].append(int(id_to_label_map[ind] == 1))\n",
        "            y_pred[k].append(int(y_nearest_labels[:k].sum() >= (k / 2)))\n",
        "\n",
        "        gc.collect()\n",
        "\n",
        "    for k in k_s:\n",
        "        tn, fp, fn, tp = sklearn.metrics.confusion_matrix(y_true[k], y_pred[k]).ravel()\n",
        "        print(f'k={k}',\n",
        "              f'correct:{count_corr[k]}/{count_total[k]}',\n",
        "              f'accuracy: {(tn + tp)*1.0/(tn + fp + fn + tp):.3f}',\n",
        "              f'tp:{tp}', f'tn:{tn}', f'fp:{fp}', f'fn:{fn}',\n",
        "              f'f1: {sklearn.metrics.f1_score(y_true[k], y_pred[k]):.3f}',\n",
        "              sep=', ')\n",
        "\n",
        "\n",
        "print(MODEL_FILENAME, 'Average Min:')\n",
        "neighbors_unweighted(k_s=[7], nbr_k_fn=average_min_k_indiv_ids)\n"
      ],
      "metadata": {
        "colab": {
          "base_uri": "https://localhost:8080/",
          "height": 84,
          "referenced_widgets": [
            "7b95f773ccfb4f898ccbba9dfaeaaf4f",
            "03fdf3dca7c340cfad19ca7af784c3cf",
            "9f92d7271b894c4cb2425c8373a77f33",
            "6b7d26c18dda4fa79aa73cd5bbb96cb1",
            "be1ff1e4d5a4481bb12ef9aea04fe051",
            "ef06c04a576841398e8d666d6c5ead2d",
            "0118488f1c1d4349a6f2b83568c52857",
            "38a3db5b372e4baf954f1424a3d981ca",
            "065e4a105e3145f8bf20921b7e3717dc",
            "969c2074a0b0494bbcdc3d5373c1553a",
            "5d996f9264244b1e8b20b54bf2f0c01b"
          ]
        },
        "id": "eoWRIzele5zW",
        "outputId": "d3cebf3d-803b-4708-f4db-648aa2fb62d7"
      },
      "execution_count": 20,
      "outputs": [
        {
          "output_type": "stream",
          "name": "stdout",
          "text": [
            "simclr_ntxentmulti Average Min:\n"
          ]
        },
        {
          "output_type": "display_data",
          "data": {
            "text/plain": [
              "  0%|          | 0/23 [00:00<?, ?it/s]"
            ],
            "application/vnd.jupyter.widget-view+json": {
              "version_major": 2,
              "version_minor": 0,
              "model_id": "7b95f773ccfb4f898ccbba9dfaeaaf4f"
            }
          },
          "metadata": {}
        },
        {
          "output_type": "stream",
          "name": "stdout",
          "text": [
            "k=7,correct:19/23,accuracy: 0.826,tp:11,tn:8,fp:1,fn:3,f1: 0.846\n"
          ]
        }
      ]
    },
    {
      "cell_type": "code",
      "source": [
        "def neighbors_weighted(k_s, nbr_k_fn):\n",
        "    count_corr = [0] * (1 + max(k_s))\n",
        "    count_total = [0] * (1 + max(k_s))\n",
        "    y_true = [[] for i in range(1 + max(k_s))]\n",
        "    y_pred = [[] for i in range(1 + max(k_s))]\n",
        "\n",
        "    t_ind = tqdm(y_id_test_uniq)\n",
        "    for ind in t_ind:\n",
        "        X_ind = X_test_embd[y_id_test == ind]\n",
        "        X_nbr = X_supp_embd\n",
        "        y_nbr_ids = y_id\n",
        "\n",
        "        t_ind.set_postfix({\"ind_id\": ind, \"samples\": len(X_ind), \"neighbors\": len(X_nbr)}, refresh=True)\n",
        "\n",
        "        d_ind = pairwise_distances(X_ind, X_nbr, metric='cosine')\n",
        "        t_ind.set_postfix({\"ind_id\": ind, \"samples\": len(X_ind), \"neighbors\": len(X_nbr), \"d_shape\": d_ind.shape},\n",
        "                          refresh=True)\n",
        "\n",
        "        k = max(k_s)\n",
        "        y_nearest_k, y_nearest_k_wt = nbr_k_fn(d_ind, y_nbr_ids, k)\n",
        "        y_nearest_labels = ids_to_labels(id_to_label_map, y_nearest_k)\n",
        "\n",
        "        wt_pred = np.copy(y_nearest_labels)\n",
        "        wt_pred[y_nearest_labels == 0] = -1\n",
        "        wt_pred = (y_nearest_k_wt * wt_pred)\n",
        "\n",
        "        t_ind.set_postfix({\"ind_id\": ind, \"samples\": len(X_ind), \"neighbors\": len(X_nbr)}, refresh=True)\n",
        "        for k in k_s:\n",
        "            is_pred_af = not bool(wt_pred[:k].sum() < 0)\n",
        "            count_total[k] += 1\n",
        "            count_corr[k] += int(id_to_label_map[ind] == 1 and is_pred_af) + int(\n",
        "                id_to_label_map[ind] == 0 and not is_pred_af)\n",
        "            y_true[k].append(int(id_to_label_map[ind] == 1))\n",
        "            y_pred[k].append(int(is_pred_af))\n",
        "\n",
        "        gc.collect()\n",
        "\n",
        "    for k in k_s:\n",
        "        tn, fp, fn, tp = sklearn.metrics.confusion_matrix(y_true[k], y_pred[k]).ravel()\n",
        "        print(f'k={k}',\n",
        "              f'correct:{count_corr[k]}/{count_total[k]}',\n",
        "              f'accuracy: {(tn + tp)*1.0/(tn + fp + fn + tp):.3f}',\n",
        "              f'tp:{tp}', f'tn:{tn}', f'fp:{fp}', f'fn:{fn}',\n",
        "              f'f1: {sklearn.metrics.f1_score(y_true[k], y_pred[k]):.3f}',\n",
        "              sep=', ')\n",
        "\n",
        "\n",
        "print(MODEL_FILENAME, \"Weighted Average Min\")\n",
        "neighbors_weighted(k_s=[7], nbr_k_fn=average_weighted_l2_min_k_indiv_ids)\n"
      ],
      "metadata": {
        "colab": {
          "base_uri": "https://localhost:8080/",
          "height": 84,
          "referenced_widgets": [
            "57947995f20445e1ba33e1fe1975e6c6",
            "1783a2f7087c494ba7f6f5f2598040ad",
            "e4fa4c1a5cbb4800bf508c64ce182d70",
            "b6f40d26f6434b9a8d35a3a229bc28c7",
            "ff9851ea7eb248198ba022a95b73f061",
            "2f6ab07a2db649cdbcc1ccfba1febe49",
            "3ddb860045894e84ab42b91152ac1466",
            "ad53b8ba9a2241bfbd583ca4d6b0aae7",
            "74354cd341bb4ca8820307ef77bc3643",
            "60c5ba6d6c9644d595db2435ebbda065",
            "809b9dc41c924a6680cc2f1fa99447d6"
          ]
        },
        "id": "-T3_mmxge9fm",
        "outputId": "cde460ae-a695-406a-afcf-312c1cf01219"
      },
      "execution_count": 21,
      "outputs": [
        {
          "output_type": "stream",
          "name": "stdout",
          "text": [
            "simclr_ntxentmulti Weighted Average Min\n"
          ]
        },
        {
          "output_type": "display_data",
          "data": {
            "text/plain": [
              "  0%|          | 0/23 [00:00<?, ?it/s]"
            ],
            "application/vnd.jupyter.widget-view+json": {
              "version_major": 2,
              "version_minor": 0,
              "model_id": "57947995f20445e1ba33e1fe1975e6c6"
            }
          },
          "metadata": {}
        },
        {
          "output_type": "stream",
          "name": "stdout",
          "text": [
            "k=7,correct:19/23,accuracy: 0.826,tp:11,tn:8,fp:1,fn:3,f1: 0.846\n"
          ]
        }
      ]
    }
  ]
}